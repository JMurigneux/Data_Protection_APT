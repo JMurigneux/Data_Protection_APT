{
 "cells": [
  {
   "cell_type": "code",
   "execution_count": 1,
   "id": "92eebfa2",
   "metadata": {},
   "outputs": [],
   "source": [
    "import pandas as pd\n",
    "import os, sys"
   ]
  },
  {
   "cell_type": "code",
   "execution_count": 2,
   "id": "8eb0639b",
   "metadata": {},
   "outputs": [],
   "source": [
    "# initial directory\n",
    "cwd = os.getcwd()\n",
    "zircolite_dir_path = \"/home/boyer/3a/data_protection/Zircolite/\"\n",
    "\n",
    "#for file in os.listdir(\"json\"):\n",
    "    #pd.read_json(\"json/\"+file,lines=True)"
   ]
  },
  {
   "cell_type": "code",
   "execution_count": 3,
   "id": "f7379d3a",
   "metadata": {},
   "outputs": [
    {
     "ename": "FileNotFoundError",
     "evalue": "[Errno 2] No such file or directory: 'json'",
     "output_type": "error",
     "traceback": [
      "\u001b[0;31m---------------------------------------------------------------------------\u001b[0m",
      "\u001b[0;31mFileNotFoundError\u001b[0m                         Traceback (most recent call last)",
      "\u001b[0;32m/tmp/ipykernel_3821/2709554988.py\u001b[0m in \u001b[0;36m<module>\u001b[0;34m\u001b[0m\n\u001b[0;32m----> 1\u001b[0;31m \u001b[0mdf\u001b[0m \u001b[0;34m=\u001b[0m \u001b[0mpd\u001b[0m\u001b[0;34m.\u001b[0m\u001b[0mread_json\u001b[0m\u001b[0;34m(\u001b[0m\u001b[0;34m\"json/\"\u001b[0m\u001b[0;34m+\u001b[0m\u001b[0mos\u001b[0m\u001b[0;34m.\u001b[0m\u001b[0mlistdir\u001b[0m\u001b[0;34m(\u001b[0m\u001b[0;34m\"json\"\u001b[0m\u001b[0;34m)\u001b[0m\u001b[0;34m[\u001b[0m\u001b[0;36m0\u001b[0m\u001b[0;34m]\u001b[0m\u001b[0;34m,\u001b[0m\u001b[0mlines\u001b[0m\u001b[0;34m=\u001b[0m\u001b[0;32mTrue\u001b[0m\u001b[0;34m)\u001b[0m\u001b[0;34m\u001b[0m\u001b[0;34m\u001b[0m\u001b[0m\n\u001b[0m\u001b[1;32m      2\u001b[0m \u001b[0mdf\u001b[0m\u001b[0;34m\u001b[0m\u001b[0;34m\u001b[0m\u001b[0m\n",
      "\u001b[0;31mFileNotFoundError\u001b[0m: [Errno 2] No such file or directory: 'json'"
     ]
    }
   ],
   "source": [
    "df = pd.read_json(\"json/\"+os.listdir(\"json\")[0],lines=True)\n",
    "df"
   ]
  },
  {
   "cell_type": "code",
   "execution_count": null,
   "id": "15325ba7",
   "metadata": {},
   "outputs": [],
   "source": [
    "df_syslog = df[df[\"sourcetype\"] == \"syslog\"].reset_index().drop(axis=1, columns = [\"index\"])\n",
    "df_syslog"
   ]
  },
  {
   "cell_type": "code",
   "execution_count": null,
   "id": "20e35ce3",
   "metadata": {},
   "outputs": [],
   "source": [
    "df_linux_audit = df[df[\"sourcetype\"] == \"linux_audit\"].reset_index().drop(axis=1, columns = [\"index\"])\n",
    "df_linux_audit"
   ]
  },
  {
   "cell_type": "code",
   "execution_count": null,
   "id": "ed98feaa",
   "metadata": {},
   "outputs": [],
   "source": [
    "def remove_node(string):\n",
    "    return \"type\" + string.split(\"type\")[1]\n",
    "\n",
    "df_linux_audit[\"raw\"] = df_linux_audit[\"raw\"].apply(remove_node)\n",
    "df_linux_audit"
   ]
  },
  {
   "cell_type": "code",
   "execution_count": null,
   "id": "2fcf3708",
   "metadata": {},
   "outputs": [],
   "source": [
    "df_linux_audit.to_csv(\"test.log\", header=None, index=False, sep=' ', mode='w')"
   ]
  },
  {
   "cell_type": "code",
   "execution_count": null,
   "id": "f4fbe223",
   "metadata": {},
   "outputs": [],
   "source": [
    "os.chdir(zircolite_dir_path)"
   ]
  },
  {
   "cell_type": "code",
   "execution_count": null,
   "id": "5b713fac",
   "metadata": {},
   "outputs": [],
   "source": [
    "!python3 zircolite.py --events ../dataset/jut\\ system/test.log --ruleset rules/rules_linux.json --auditd"
   ]
  },
  {
   "cell_type": "code",
   "execution_count": null,
   "id": "6826d276",
   "metadata": {},
   "outputs": [],
   "source": [
    "df_detected = pd.read_json(\"detected_events.json\")\n",
    "df_detected"
   ]
  },
  {
   "cell_type": "code",
   "execution_count": null,
   "id": "f5c78284",
   "metadata": {},
   "outputs": [],
   "source": [
    "type(df_detected[\"matches\"][0])\n",
    "for match in df_detected[\"matches\"][0]:\n",
    "    print(type(match))\n",
    "    print(match)\n",
    "    print(match[\"row_id\"])"
   ]
  },
  {
   "cell_type": "code",
   "execution_count": null,
   "id": "dfeaebe2",
   "metadata": {},
   "outputs": [],
   "source": []
  }
 ],
 "metadata": {
  "kernelspec": {
   "display_name": "Python 3.9.13 ('APT_project')",
   "language": "python",
   "name": "python3"
  },
  "language_info": {
   "codemirror_mode": {
    "name": "ipython",
    "version": 3
   },
   "file_extension": ".py",
   "mimetype": "text/x-python",
   "name": "python",
   "nbconvert_exporter": "python",
   "pygments_lexer": "ipython3",
   "version": "3.9.13"
  },
  "vscode": {
   "interpreter": {
    "hash": "428267371db599cd337a66633eb6290c915fa8dd425a814aefd4d35f8316f6ba"
   }
  }
 },
 "nbformat": 4,
 "nbformat_minor": 5
}
