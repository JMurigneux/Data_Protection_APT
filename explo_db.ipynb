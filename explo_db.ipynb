{
 "cells": [
  {
   "cell_type": "code",
   "execution_count": 29,
   "metadata": {},
   "outputs": [],
   "source": [
    "import pandas as pd\n",
    "import json\n",
    "import re\n",
    "from tqdm import tqdm\n",
    "path_system=\"data/pwnjutsu/system/json/pwnjutsu_dataset-system-json-n12.json/\"\n",
    "path_network=\"data/pwnjutsu/network/json/pwnjutsu_dataset-network-json-player_12/\"  \n",
    "path_clean_network=\"data/pwnjutsu/network/json_csv/pwnjutsu_dataset-network-json-player_12/\"\n",
    "path_reference =\"data/pwnjutsu/reference/pwnjutsu_dataset-reference-system-json-n99.json/\""
   ]
  },
  {
   "cell_type": "code",
   "execution_count": 14,
   "metadata": {},
   "outputs": [
    {
     "ename": "JSONDecodeError",
     "evalue": "Expecting value: line 1 column 1 (char 0)",
     "output_type": "error",
     "traceback": [
      "\u001b[1;31m---------------------------------------------------------------------------\u001b[0m",
      "\u001b[1;31mJSONDecodeError\u001b[0m                           Traceback (most recent call last)",
      "Cell \u001b[1;32mIn [14], line 1\u001b[0m\n\u001b[1;32m----> 1\u001b[0m pwn_syst\u001b[39m=\u001b[39mjson\u001b[39m.\u001b[39;49mloads(path_system\u001b[39m+\u001b[39;49m\u001b[39m\"\u001b[39;49m\u001b[39mpwnjutsu_dataset-system-json-n12.json\u001b[39;49m\u001b[39m\"\u001b[39;49m)\n",
      "File \u001b[1;32mc:\\Users\\Joanm\\.conda\\envs\\APT_project\\lib\\json\\__init__.py:346\u001b[0m, in \u001b[0;36mloads\u001b[1;34m(s, cls, object_hook, parse_float, parse_int, parse_constant, object_pairs_hook, **kw)\u001b[0m\n\u001b[0;32m    341\u001b[0m     s \u001b[39m=\u001b[39m s\u001b[39m.\u001b[39mdecode(detect_encoding(s), \u001b[39m'\u001b[39m\u001b[39msurrogatepass\u001b[39m\u001b[39m'\u001b[39m)\n\u001b[0;32m    343\u001b[0m \u001b[39mif\u001b[39;00m (\u001b[39mcls\u001b[39m \u001b[39mis\u001b[39;00m \u001b[39mNone\u001b[39;00m \u001b[39mand\u001b[39;00m object_hook \u001b[39mis\u001b[39;00m \u001b[39mNone\u001b[39;00m \u001b[39mand\u001b[39;00m\n\u001b[0;32m    344\u001b[0m         parse_int \u001b[39mis\u001b[39;00m \u001b[39mNone\u001b[39;00m \u001b[39mand\u001b[39;00m parse_float \u001b[39mis\u001b[39;00m \u001b[39mNone\u001b[39;00m \u001b[39mand\u001b[39;00m\n\u001b[0;32m    345\u001b[0m         parse_constant \u001b[39mis\u001b[39;00m \u001b[39mNone\u001b[39;00m \u001b[39mand\u001b[39;00m object_pairs_hook \u001b[39mis\u001b[39;00m \u001b[39mNone\u001b[39;00m \u001b[39mand\u001b[39;00m \u001b[39mnot\u001b[39;00m kw):\n\u001b[1;32m--> 346\u001b[0m     \u001b[39mreturn\u001b[39;00m _default_decoder\u001b[39m.\u001b[39;49mdecode(s)\n\u001b[0;32m    347\u001b[0m \u001b[39mif\u001b[39;00m \u001b[39mcls\u001b[39m \u001b[39mis\u001b[39;00m \u001b[39mNone\u001b[39;00m:\n\u001b[0;32m    348\u001b[0m     \u001b[39mcls\u001b[39m \u001b[39m=\u001b[39m JSONDecoder\n",
      "File \u001b[1;32mc:\\Users\\Joanm\\.conda\\envs\\APT_project\\lib\\json\\decoder.py:337\u001b[0m, in \u001b[0;36mJSONDecoder.decode\u001b[1;34m(self, s, _w)\u001b[0m\n\u001b[0;32m    332\u001b[0m \u001b[39mdef\u001b[39;00m \u001b[39mdecode\u001b[39m(\u001b[39mself\u001b[39m, s, _w\u001b[39m=\u001b[39mWHITESPACE\u001b[39m.\u001b[39mmatch):\n\u001b[0;32m    333\u001b[0m     \u001b[39m\"\"\"Return the Python representation of ``s`` (a ``str`` instance\u001b[39;00m\n\u001b[0;32m    334\u001b[0m \u001b[39m    containing a JSON document).\u001b[39;00m\n\u001b[0;32m    335\u001b[0m \n\u001b[0;32m    336\u001b[0m \u001b[39m    \"\"\"\u001b[39;00m\n\u001b[1;32m--> 337\u001b[0m     obj, end \u001b[39m=\u001b[39m \u001b[39mself\u001b[39;49m\u001b[39m.\u001b[39;49mraw_decode(s, idx\u001b[39m=\u001b[39;49m_w(s, \u001b[39m0\u001b[39;49m)\u001b[39m.\u001b[39;49mend())\n\u001b[0;32m    338\u001b[0m     end \u001b[39m=\u001b[39m _w(s, end)\u001b[39m.\u001b[39mend()\n\u001b[0;32m    339\u001b[0m     \u001b[39mif\u001b[39;00m end \u001b[39m!=\u001b[39m \u001b[39mlen\u001b[39m(s):\n",
      "File \u001b[1;32mc:\\Users\\Joanm\\.conda\\envs\\APT_project\\lib\\json\\decoder.py:355\u001b[0m, in \u001b[0;36mJSONDecoder.raw_decode\u001b[1;34m(self, s, idx)\u001b[0m\n\u001b[0;32m    353\u001b[0m     obj, end \u001b[39m=\u001b[39m \u001b[39mself\u001b[39m\u001b[39m.\u001b[39mscan_once(s, idx)\n\u001b[0;32m    354\u001b[0m \u001b[39mexcept\u001b[39;00m \u001b[39mStopIteration\u001b[39;00m \u001b[39mas\u001b[39;00m err:\n\u001b[1;32m--> 355\u001b[0m     \u001b[39mraise\u001b[39;00m JSONDecodeError(\u001b[39m\"\u001b[39m\u001b[39mExpecting value\u001b[39m\u001b[39m\"\u001b[39m, s, err\u001b[39m.\u001b[39mvalue) \u001b[39mfrom\u001b[39;00m \u001b[39mNone\u001b[39m\n\u001b[0;32m    356\u001b[0m \u001b[39mreturn\u001b[39;00m obj, end\n",
      "\u001b[1;31mJSONDecodeError\u001b[0m: Expecting value: line 1 column 1 (char 0)"
     ]
    }
   ],
   "source": [
    "pwn_syst=json.loads(path_system+\"pwnjutsu_dataset-system-json-n12.json\")"
   ]
  },
  {
   "cell_type": "code",
   "execution_count": null,
   "metadata": {},
   "outputs": [
    {
     "ename": "JSONDecodeError",
     "evalue": "Expecting value: line 1 column 1 (char 0)",
     "output_type": "error",
     "traceback": [
      "\u001b[1;31m---------------------------------------------------------------------------\u001b[0m",
      "\u001b[1;31mJSONDecodeError\u001b[0m                           Traceback (most recent call last)",
      "Cell \u001b[1;32mIn [8], line 1\u001b[0m\n\u001b[1;32m----> 1\u001b[0m pwn_ref\u001b[39m=\u001b[39mjson\u001b[39m.\u001b[39;49mloads(path_reference\u001b[39m+\u001b[39;49m\u001b[39m\"\u001b[39;49m\u001b[39mpwnjutsu_dataset-reference-system-json-n99.json\u001b[39;49m\u001b[39m\"\u001b[39;49m)\n",
      "File \u001b[1;32mc:\\Users\\Joanm\\.conda\\envs\\APT_project\\lib\\json\\__init__.py:346\u001b[0m, in \u001b[0;36mloads\u001b[1;34m(s, cls, object_hook, parse_float, parse_int, parse_constant, object_pairs_hook, **kw)\u001b[0m\n\u001b[0;32m    341\u001b[0m     s \u001b[39m=\u001b[39m s\u001b[39m.\u001b[39mdecode(detect_encoding(s), \u001b[39m'\u001b[39m\u001b[39msurrogatepass\u001b[39m\u001b[39m'\u001b[39m)\n\u001b[0;32m    343\u001b[0m \u001b[39mif\u001b[39;00m (\u001b[39mcls\u001b[39m \u001b[39mis\u001b[39;00m \u001b[39mNone\u001b[39;00m \u001b[39mand\u001b[39;00m object_hook \u001b[39mis\u001b[39;00m \u001b[39mNone\u001b[39;00m \u001b[39mand\u001b[39;00m\n\u001b[0;32m    344\u001b[0m         parse_int \u001b[39mis\u001b[39;00m \u001b[39mNone\u001b[39;00m \u001b[39mand\u001b[39;00m parse_float \u001b[39mis\u001b[39;00m \u001b[39mNone\u001b[39;00m \u001b[39mand\u001b[39;00m\n\u001b[0;32m    345\u001b[0m         parse_constant \u001b[39mis\u001b[39;00m \u001b[39mNone\u001b[39;00m \u001b[39mand\u001b[39;00m object_pairs_hook \u001b[39mis\u001b[39;00m \u001b[39mNone\u001b[39;00m \u001b[39mand\u001b[39;00m \u001b[39mnot\u001b[39;00m kw):\n\u001b[1;32m--> 346\u001b[0m     \u001b[39mreturn\u001b[39;00m _default_decoder\u001b[39m.\u001b[39;49mdecode(s)\n\u001b[0;32m    347\u001b[0m \u001b[39mif\u001b[39;00m \u001b[39mcls\u001b[39m \u001b[39mis\u001b[39;00m \u001b[39mNone\u001b[39;00m:\n\u001b[0;32m    348\u001b[0m     \u001b[39mcls\u001b[39m \u001b[39m=\u001b[39m JSONDecoder\n",
      "File \u001b[1;32mc:\\Users\\Joanm\\.conda\\envs\\APT_project\\lib\\json\\decoder.py:337\u001b[0m, in \u001b[0;36mJSONDecoder.decode\u001b[1;34m(self, s, _w)\u001b[0m\n\u001b[0;32m    332\u001b[0m \u001b[39mdef\u001b[39;00m \u001b[39mdecode\u001b[39m(\u001b[39mself\u001b[39m, s, _w\u001b[39m=\u001b[39mWHITESPACE\u001b[39m.\u001b[39mmatch):\n\u001b[0;32m    333\u001b[0m     \u001b[39m\"\"\"Return the Python representation of ``s`` (a ``str`` instance\u001b[39;00m\n\u001b[0;32m    334\u001b[0m \u001b[39m    containing a JSON document).\u001b[39;00m\n\u001b[0;32m    335\u001b[0m \n\u001b[0;32m    336\u001b[0m \u001b[39m    \"\"\"\u001b[39;00m\n\u001b[1;32m--> 337\u001b[0m     obj, end \u001b[39m=\u001b[39m \u001b[39mself\u001b[39;49m\u001b[39m.\u001b[39;49mraw_decode(s, idx\u001b[39m=\u001b[39;49m_w(s, \u001b[39m0\u001b[39;49m)\u001b[39m.\u001b[39;49mend())\n\u001b[0;32m    338\u001b[0m     end \u001b[39m=\u001b[39m _w(s, end)\u001b[39m.\u001b[39mend()\n\u001b[0;32m    339\u001b[0m     \u001b[39mif\u001b[39;00m end \u001b[39m!=\u001b[39m \u001b[39mlen\u001b[39m(s):\n",
      "File \u001b[1;32mc:\\Users\\Joanm\\.conda\\envs\\APT_project\\lib\\json\\decoder.py:355\u001b[0m, in \u001b[0;36mJSONDecoder.raw_decode\u001b[1;34m(self, s, idx)\u001b[0m\n\u001b[0;32m    353\u001b[0m     obj, end \u001b[39m=\u001b[39m \u001b[39mself\u001b[39m\u001b[39m.\u001b[39mscan_once(s, idx)\n\u001b[0;32m    354\u001b[0m \u001b[39mexcept\u001b[39;00m \u001b[39mStopIteration\u001b[39;00m \u001b[39mas\u001b[39;00m err:\n\u001b[1;32m--> 355\u001b[0m     \u001b[39mraise\u001b[39;00m JSONDecodeError(\u001b[39m\"\u001b[39m\u001b[39mExpecting value\u001b[39m\u001b[39m\"\u001b[39m, s, err\u001b[39m.\u001b[39mvalue) \u001b[39mfrom\u001b[39;00m \u001b[39mNone\u001b[39m\n\u001b[0;32m    356\u001b[0m \u001b[39mreturn\u001b[39;00m obj, end\n",
      "\u001b[1;31mJSONDecodeError\u001b[0m: Expecting value: line 1 column 1 (char 0)"
     ]
    }
   ],
   "source": [
    "pwn_ref=json.loads(path_reference+\"pwnjutsu_dataset-reference-system-json-n99.json\")"
   ]
  },
  {
   "cell_type": "code",
   "execution_count": null,
   "metadata": {},
   "outputs": [
    {
     "ename": "JSONDecodeError",
     "evalue": "Expecting value: line 1 column 1 (char 0)",
     "output_type": "error",
     "traceback": [
      "\u001b[1;31m---------------------------------------------------------------------------\u001b[0m",
      "\u001b[1;31mJSONDecodeError\u001b[0m                           Traceback (most recent call last)",
      "Cell \u001b[1;32mIn [12], line 1\u001b[0m\n\u001b[1;32m----> 1\u001b[0m pwn_net\u001b[39m=\u001b[39mjson\u001b[39m.\u001b[39;49mloads(path_network\u001b[39m+\u001b[39;49m\u001b[39m'\u001b[39;49m\u001b[39mplayer_12_536871846.pcap_conn.log\u001b[39;49m\u001b[39m'\u001b[39;49m)\n",
      "File \u001b[1;32mc:\\Users\\Joanm\\.conda\\envs\\APT_project\\lib\\json\\__init__.py:346\u001b[0m, in \u001b[0;36mloads\u001b[1;34m(s, cls, object_hook, parse_float, parse_int, parse_constant, object_pairs_hook, **kw)\u001b[0m\n\u001b[0;32m    341\u001b[0m     s \u001b[39m=\u001b[39m s\u001b[39m.\u001b[39mdecode(detect_encoding(s), \u001b[39m'\u001b[39m\u001b[39msurrogatepass\u001b[39m\u001b[39m'\u001b[39m)\n\u001b[0;32m    343\u001b[0m \u001b[39mif\u001b[39;00m (\u001b[39mcls\u001b[39m \u001b[39mis\u001b[39;00m \u001b[39mNone\u001b[39;00m \u001b[39mand\u001b[39;00m object_hook \u001b[39mis\u001b[39;00m \u001b[39mNone\u001b[39;00m \u001b[39mand\u001b[39;00m\n\u001b[0;32m    344\u001b[0m         parse_int \u001b[39mis\u001b[39;00m \u001b[39mNone\u001b[39;00m \u001b[39mand\u001b[39;00m parse_float \u001b[39mis\u001b[39;00m \u001b[39mNone\u001b[39;00m \u001b[39mand\u001b[39;00m\n\u001b[0;32m    345\u001b[0m         parse_constant \u001b[39mis\u001b[39;00m \u001b[39mNone\u001b[39;00m \u001b[39mand\u001b[39;00m object_pairs_hook \u001b[39mis\u001b[39;00m \u001b[39mNone\u001b[39;00m \u001b[39mand\u001b[39;00m \u001b[39mnot\u001b[39;00m kw):\n\u001b[1;32m--> 346\u001b[0m     \u001b[39mreturn\u001b[39;00m _default_decoder\u001b[39m.\u001b[39;49mdecode(s)\n\u001b[0;32m    347\u001b[0m \u001b[39mif\u001b[39;00m \u001b[39mcls\u001b[39m \u001b[39mis\u001b[39;00m \u001b[39mNone\u001b[39;00m:\n\u001b[0;32m    348\u001b[0m     \u001b[39mcls\u001b[39m \u001b[39m=\u001b[39m JSONDecoder\n",
      "File \u001b[1;32mc:\\Users\\Joanm\\.conda\\envs\\APT_project\\lib\\json\\decoder.py:337\u001b[0m, in \u001b[0;36mJSONDecoder.decode\u001b[1;34m(self, s, _w)\u001b[0m\n\u001b[0;32m    332\u001b[0m \u001b[39mdef\u001b[39;00m \u001b[39mdecode\u001b[39m(\u001b[39mself\u001b[39m, s, _w\u001b[39m=\u001b[39mWHITESPACE\u001b[39m.\u001b[39mmatch):\n\u001b[0;32m    333\u001b[0m     \u001b[39m\"\"\"Return the Python representation of ``s`` (a ``str`` instance\u001b[39;00m\n\u001b[0;32m    334\u001b[0m \u001b[39m    containing a JSON document).\u001b[39;00m\n\u001b[0;32m    335\u001b[0m \n\u001b[0;32m    336\u001b[0m \u001b[39m    \"\"\"\u001b[39;00m\n\u001b[1;32m--> 337\u001b[0m     obj, end \u001b[39m=\u001b[39m \u001b[39mself\u001b[39;49m\u001b[39m.\u001b[39;49mraw_decode(s, idx\u001b[39m=\u001b[39;49m_w(s, \u001b[39m0\u001b[39;49m)\u001b[39m.\u001b[39;49mend())\n\u001b[0;32m    338\u001b[0m     end \u001b[39m=\u001b[39m _w(s, end)\u001b[39m.\u001b[39mend()\n\u001b[0;32m    339\u001b[0m     \u001b[39mif\u001b[39;00m end \u001b[39m!=\u001b[39m \u001b[39mlen\u001b[39m(s):\n",
      "File \u001b[1;32mc:\\Users\\Joanm\\.conda\\envs\\APT_project\\lib\\json\\decoder.py:355\u001b[0m, in \u001b[0;36mJSONDecoder.raw_decode\u001b[1;34m(self, s, idx)\u001b[0m\n\u001b[0;32m    353\u001b[0m     obj, end \u001b[39m=\u001b[39m \u001b[39mself\u001b[39m\u001b[39m.\u001b[39mscan_once(s, idx)\n\u001b[0;32m    354\u001b[0m \u001b[39mexcept\u001b[39;00m \u001b[39mStopIteration\u001b[39;00m \u001b[39mas\u001b[39;00m err:\n\u001b[1;32m--> 355\u001b[0m     \u001b[39mraise\u001b[39;00m JSONDecodeError(\u001b[39m\"\u001b[39m\u001b[39mExpecting value\u001b[39m\u001b[39m\"\u001b[39m, s, err\u001b[39m.\u001b[39mvalue) \u001b[39mfrom\u001b[39;00m \u001b[39mNone\u001b[39m\n\u001b[0;32m    356\u001b[0m \u001b[39mreturn\u001b[39;00m obj, end\n",
      "\u001b[1;31mJSONDecodeError\u001b[0m: Expecting value: line 1 column 1 (char 0)"
     ]
    }
   ],
   "source": [
    "pwn_net=json.loads(path_network+'player_12_536871846.pcap_conn.log')"
   ]
  },
  {
   "cell_type": "markdown",
   "metadata": {},
   "source": [
    "# clean des json"
   ]
  },
  {
   "cell_type": "code",
   "execution_count": 24,
   "metadata": {},
   "outputs": [],
   "source": [
    "import os\n",
    "\n",
    "data_files = [(x[0], x[2]) for x in os.walk(path_network)]\n",
    "file_list=data_files[0][1]"
   ]
  },
  {
   "cell_type": "code",
   "execution_count": 38,
   "metadata": {},
   "outputs": [
    {
     "name": "stderr",
     "output_type": "stream",
     "text": [
      " 67%|██████▋   | 16/24 [00:13<00:04,  1.88it/s]"
     ]
    },
    {
     "name": "stdout",
     "output_type": "stream",
     "text": [
      "['\"n12-vm3.local\"]']\n",
      "['\"ts\":1620674900.098591', '\"uid\":\"CNmjm81WOpmHT29HRi\"', '\"id.orig_h\":\"fe80::20c:29ff:fe50:bdf4\"', '\"id.orig_p\":5353', '\"id.resp_h\":\"ff02::fb\"', '\"id.resp_p\":5353', '\"proto\":\"udp\"', '\"trans_id\":0', '\"query\":\"n12-vm3.local\"', '\"rcode\":0', '\"rcode_name\":\"NOERROR\"', '\"AA\":true', '\"TC\":false', '\"RD\":false', '\"RA\":false', '\"Z\":0', '\"answers\":[\"fe80::20c:29ff:fe50:bdf4\"', '\"n12-vm3.local\"]', '\"TTLs\":[0.0', '0.0]', '\"rejected\":false']\n",
      "{\"ts\":1620674900.098591,\"uid\":\"CNmjm81WOpmHT29HRi\",\"id.orig_h\":\"fe80::20c:29ff:fe50:bdf4\",\"id.orig_p\":5353,\"id.resp_h\":\"ff02::fb\",\"id.resp_p\":5353,\"proto\":\"udp\",\"trans_id\":0,\"query\":\"n12-vm3.local\",\"rcode\":0,\"rcode_name\":\"NOERROR\",\"AA\":true,\"TC\":false,\"RD\":false,\"RA\":false,\"Z\":0,\"answers\":[\"fe80::20c:29ff:fe50:bdf4\",\"n12-vm3.local\"],\"TTLs\":[0.0,0.0],\"rejected\":false}\n",
      "------------------------------------------\n",
      "['0.0]']\n",
      "['\"ts\":1620674900.098591', '\"uid\":\"CNmjm81WOpmHT29HRi\"', '\"id.orig_h\":\"fe80::20c:29ff:fe50:bdf4\"', '\"id.orig_p\":5353', '\"id.resp_h\":\"ff02::fb\"', '\"id.resp_p\":5353', '\"proto\":\"udp\"', '\"trans_id\":0', '\"query\":\"n12-vm3.local\"', '\"rcode\":0', '\"rcode_name\":\"NOERROR\"', '\"AA\":true', '\"TC\":false', '\"RD\":false', '\"RA\":false', '\"Z\":0', '\"answers\":[\"fe80::20c:29ff:fe50:bdf4\"', '\"n12-vm3.local\"]', '\"TTLs\":[0.0', '0.0]', '\"rejected\":false']\n",
      "{\"ts\":1620674900.098591,\"uid\":\"CNmjm81WOpmHT29HRi\",\"id.orig_h\":\"fe80::20c:29ff:fe50:bdf4\",\"id.orig_p\":5353,\"id.resp_h\":\"ff02::fb\",\"id.resp_p\":5353,\"proto\":\"udp\",\"trans_id\":0,\"query\":\"n12-vm3.local\",\"rcode\":0,\"rcode_name\":\"NOERROR\",\"AA\":true,\"TC\":false,\"RD\":false,\"RA\":false,\"Z\":0,\"answers\":[\"fe80::20c:29ff:fe50:bdf4\",\"n12-vm3.local\"],\"TTLs\":[0.0,0.0],\"rejected\":false}\n",
      "------------------------------------------\n",
      "['\"n12-vm3.local\"']\n",
      "['\"ts\":1620674900.099839', '\"uid\":\"CTpyfY3OrGXA3toR79\"', '\"id.orig_h\":\"10.12.1.3\"', '\"id.orig_p\":5353', '\"id.resp_h\":\"224.0.0.251\"', '\"id.resp_p\":5353', '\"proto\":\"udp\"', '\"trans_id\":0', '\"query\":\"n12-vm3.local\"', '\"rcode\":0', '\"rcode_name\":\"NOERROR\"', '\"AA\":true', '\"TC\":false', '\"RD\":false', '\"RA\":false', '\"Z\":0', '\"answers\":[\"fe80::20c:29ff:fe50:bdf4\"', '\"n12-vm3.local\"', '\"10.12.1.3\"', '\"n12-vm3.local\"]', '\"TTLs\":[0.0', '0.0', '0.0', '0.0]', '\"rejected\":false']\n",
      "{\"ts\":1620674900.099839,\"uid\":\"CTpyfY3OrGXA3toR79\",\"id.orig_h\":\"10.12.1.3\",\"id.orig_p\":5353,\"id.resp_h\":\"224.0.0.251\",\"id.resp_p\":5353,\"proto\":\"udp\",\"trans_id\":0,\"query\":\"n12-vm3.local\",\"rcode\":0,\"rcode_name\":\"NOERROR\",\"AA\":true,\"TC\":false,\"RD\":false,\"RA\":false,\"Z\":0,\"answers\":[\"fe80::20c:29ff:fe50:bdf4\",\"n12-vm3.local\",\"10.12.1.3\",\"n12-vm3.local\"],\"TTLs\":[0.0,0.0,0.0,0.0],\"rejected\":false}\n",
      "------------------------------------------\n",
      "['\"10.12.1.3\"']\n",
      "['\"ts\":1620674900.099839', '\"uid\":\"CTpyfY3OrGXA3toR79\"', '\"id.orig_h\":\"10.12.1.3\"', '\"id.orig_p\":5353', '\"id.resp_h\":\"224.0.0.251\"', '\"id.resp_p\":5353', '\"proto\":\"udp\"', '\"trans_id\":0', '\"query\":\"n12-vm3.local\"', '\"rcode\":0', '\"rcode_name\":\"NOERROR\"', '\"AA\":true', '\"TC\":false', '\"RD\":false', '\"RA\":false', '\"Z\":0', '\"answers\":[\"fe80::20c:29ff:fe50:bdf4\"', '\"n12-vm3.local\"', '\"10.12.1.3\"', '\"n12-vm3.local\"]', '\"TTLs\":[0.0', '0.0', '0.0', '0.0]', '\"rejected\":false']\n",
      "{\"ts\":1620674900.099839,\"uid\":\"CTpyfY3OrGXA3toR79\",\"id.orig_h\":\"10.12.1.3\",\"id.orig_p\":5353,\"id.resp_h\":\"224.0.0.251\",\"id.resp_p\":5353,\"proto\":\"udp\",\"trans_id\":0,\"query\":\"n12-vm3.local\",\"rcode\":0,\"rcode_name\":\"NOERROR\",\"AA\":true,\"TC\":false,\"RD\":false,\"RA\":false,\"Z\":0,\"answers\":[\"fe80::20c:29ff:fe50:bdf4\",\"n12-vm3.local\",\"10.12.1.3\",\"n12-vm3.local\"],\"TTLs\":[0.0,0.0,0.0,0.0],\"rejected\":false}\n",
      "------------------------------------------\n",
      "['\"n12-vm3.local\"]']\n",
      "['\"ts\":1620674900.099839', '\"uid\":\"CTpyfY3OrGXA3toR79\"', '\"id.orig_h\":\"10.12.1.3\"', '\"id.orig_p\":5353', '\"id.resp_h\":\"224.0.0.251\"', '\"id.resp_p\":5353', '\"proto\":\"udp\"', '\"trans_id\":0', '\"query\":\"n12-vm3.local\"', '\"rcode\":0', '\"rcode_name\":\"NOERROR\"', '\"AA\":true', '\"TC\":false', '\"RD\":false', '\"RA\":false', '\"Z\":0', '\"answers\":[\"fe80::20c:29ff:fe50:bdf4\"', '\"n12-vm3.local\"', '\"10.12.1.3\"', '\"n12-vm3.local\"]', '\"TTLs\":[0.0', '0.0', '0.0', '0.0]', '\"rejected\":false']\n",
      "{\"ts\":1620674900.099839,\"uid\":\"CTpyfY3OrGXA3toR79\",\"id.orig_h\":\"10.12.1.3\",\"id.orig_p\":5353,\"id.resp_h\":\"224.0.0.251\",\"id.resp_p\":5353,\"proto\":\"udp\",\"trans_id\":0,\"query\":\"n12-vm3.local\",\"rcode\":0,\"rcode_name\":\"NOERROR\",\"AA\":true,\"TC\":false,\"RD\":false,\"RA\":false,\"Z\":0,\"answers\":[\"fe80::20c:29ff:fe50:bdf4\",\"n12-vm3.local\",\"10.12.1.3\",\"n12-vm3.local\"],\"TTLs\":[0.0,0.0,0.0,0.0],\"rejected\":false}\n",
      "------------------------------------------\n",
      "['0.0']\n",
      "['\"ts\":1620674900.099839', '\"uid\":\"CTpyfY3OrGXA3toR79\"', '\"id.orig_h\":\"10.12.1.3\"', '\"id.orig_p\":5353', '\"id.resp_h\":\"224.0.0.251\"', '\"id.resp_p\":5353', '\"proto\":\"udp\"', '\"trans_id\":0', '\"query\":\"n12-vm3.local\"', '\"rcode\":0', '\"rcode_name\":\"NOERROR\"', '\"AA\":true', '\"TC\":false', '\"RD\":false', '\"RA\":false', '\"Z\":0', '\"answers\":[\"fe80::20c:29ff:fe50:bdf4\"', '\"n12-vm3.local\"', '\"10.12.1.3\"', '\"n12-vm3.local\"]', '\"TTLs\":[0.0', '0.0', '0.0', '0.0]', '\"rejected\":false']\n",
      "{\"ts\":1620674900.099839,\"uid\":\"CTpyfY3OrGXA3toR79\",\"id.orig_h\":\"10.12.1.3\",\"id.orig_p\":5353,\"id.resp_h\":\"224.0.0.251\",\"id.resp_p\":5353,\"proto\":\"udp\",\"trans_id\":0,\"query\":\"n12-vm3.local\",\"rcode\":0,\"rcode_name\":\"NOERROR\",\"AA\":true,\"TC\":false,\"RD\":false,\"RA\":false,\"Z\":0,\"answers\":[\"fe80::20c:29ff:fe50:bdf4\",\"n12-vm3.local\",\"10.12.1.3\",\"n12-vm3.local\"],\"TTLs\":[0.0,0.0,0.0,0.0],\"rejected\":false}\n",
      "------------------------------------------\n",
      "['0.0']\n",
      "['\"ts\":1620674900.099839', '\"uid\":\"CTpyfY3OrGXA3toR79\"', '\"id.orig_h\":\"10.12.1.3\"', '\"id.orig_p\":5353', '\"id.resp_h\":\"224.0.0.251\"', '\"id.resp_p\":5353', '\"proto\":\"udp\"', '\"trans_id\":0', '\"query\":\"n12-vm3.local\"', '\"rcode\":0', '\"rcode_name\":\"NOERROR\"', '\"AA\":true', '\"TC\":false', '\"RD\":false', '\"RA\":false', '\"Z\":0', '\"answers\":[\"fe80::20c:29ff:fe50:bdf4\"', '\"n12-vm3.local\"', '\"10.12.1.3\"', '\"n12-vm3.local\"]', '\"TTLs\":[0.0', '0.0', '0.0', '0.0]', '\"rejected\":false']\n",
      "{\"ts\":1620674900.099839,\"uid\":\"CTpyfY3OrGXA3toR79\",\"id.orig_h\":\"10.12.1.3\",\"id.orig_p\":5353,\"id.resp_h\":\"224.0.0.251\",\"id.resp_p\":5353,\"proto\":\"udp\",\"trans_id\":0,\"query\":\"n12-vm3.local\",\"rcode\":0,\"rcode_name\":\"NOERROR\",\"AA\":true,\"TC\":false,\"RD\":false,\"RA\":false,\"Z\":0,\"answers\":[\"fe80::20c:29ff:fe50:bdf4\",\"n12-vm3.local\",\"10.12.1.3\",\"n12-vm3.local\"],\"TTLs\":[0.0,0.0,0.0,0.0],\"rejected\":false}\n",
      "------------------------------------------\n",
      "['0.0]']\n",
      "['\"ts\":1620674900.099839', '\"uid\":\"CTpyfY3OrGXA3toR79\"', '\"id.orig_h\":\"10.12.1.3\"', '\"id.orig_p\":5353', '\"id.resp_h\":\"224.0.0.251\"', '\"id.resp_p\":5353', '\"proto\":\"udp\"', '\"trans_id\":0', '\"query\":\"n12-vm3.local\"', '\"rcode\":0', '\"rcode_name\":\"NOERROR\"', '\"AA\":true', '\"TC\":false', '\"RD\":false', '\"RA\":false', '\"Z\":0', '\"answers\":[\"fe80::20c:29ff:fe50:bdf4\"', '\"n12-vm3.local\"', '\"10.12.1.3\"', '\"n12-vm3.local\"]', '\"TTLs\":[0.0', '0.0', '0.0', '0.0]', '\"rejected\":false']\n",
      "{\"ts\":1620674900.099839,\"uid\":\"CTpyfY3OrGXA3toR79\",\"id.orig_h\":\"10.12.1.3\",\"id.orig_p\":5353,\"id.resp_h\":\"224.0.0.251\",\"id.resp_p\":5353,\"proto\":\"udp\",\"trans_id\":0,\"query\":\"n12-vm3.local\",\"rcode\":0,\"rcode_name\":\"NOERROR\",\"AA\":true,\"TC\":false,\"RD\":false,\"RA\":false,\"Z\":0,\"answers\":[\"fe80::20c:29ff:fe50:bdf4\",\"n12-vm3.local\",\"10.12.1.3\",\"n12-vm3.local\"],\"TTLs\":[0.0,0.0,0.0,0.0],\"rejected\":false}\n",
      "------------------------------------------\n"
     ]
    },
    {
     "name": "stderr",
     "output_type": "stream",
     "text": [
      "100%|██████████| 24/24 [00:13<00:00,  1.73it/s]\n"
     ]
    }
   ],
   "source": [
    "\n",
    "for name in tqdm(file_list):\n",
    "\n",
    "    pwn_net = open(path_network+name, 'r')\n",
    "    net_lines = pwn_net.read().splitlines()\n",
    "\n",
    "    def fromlinetodict(line):\n",
    "        elem=re.split(\"[{},]\",line)[1:-1]\n",
    "        d=dict()\n",
    "\n",
    "        for l in elem:\n",
    "            name_val=re.split(':',l)\n",
    "\n",
    "            if len(name_val)>2:\n",
    "                for i in range(2,len(name_val)):\n",
    "                    name_val[1]+=':'+name_val[i]\n",
    "\n",
    "            try:\n",
    "                if not (name_val[1][0]=='\"' or name_val[1][0]== \"'\"):\n",
    "                    try:\n",
    "                        d[name_val[0][1:-1]]=float(name_val[1])\n",
    "                    except:\n",
    "                        d[name_val[0][1:-1]]=bool(name_val[1])\n",
    "                else:\n",
    "                    d[name_val[0][1:-1]]=name_val[1][1:-1]    \n",
    "            except: \n",
    "                #je sais pas pk y'a une erreur, ça se place au niveau du split du name_val\n",
    "                print(name_val)\n",
    "                print(elem)\n",
    "                print(line)\n",
    "                print(\"------------------------------------------\")\n",
    "\n",
    "        return d\n",
    "\n",
    "    net_dict=[fromlinetodict(l) for l in net_lines] \n",
    "    df=pd.DataFrame(net_dict)\n",
    "    df.to_csv(path_clean_network+name,index=False)\n",
    " "
   ]
  }
 ],
 "metadata": {
  "kernelspec": {
   "display_name": "Python 3.9.13 ('APT_project')",
   "language": "python",
   "name": "python3"
  },
  "language_info": {
   "codemirror_mode": {
    "name": "ipython",
    "version": 3
   },
   "file_extension": ".py",
   "mimetype": "text/x-python",
   "name": "python",
   "nbconvert_exporter": "python",
   "pygments_lexer": "ipython3",
   "version": "3.9.13"
  },
  "orig_nbformat": 4,
  "vscode": {
   "interpreter": {
    "hash": "428267371db599cd337a66633eb6290c915fa8dd425a814aefd4d35f8316f6ba"
   }
  }
 },
 "nbformat": 4,
 "nbformat_minor": 2
}
